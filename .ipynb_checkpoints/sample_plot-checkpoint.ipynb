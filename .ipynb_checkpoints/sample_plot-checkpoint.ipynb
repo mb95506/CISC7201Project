{
 "cells": [
  {
   "cell_type": "code",
   "execution_count": 1,
   "metadata": {},
   "outputs": [],
   "source": [
    "from pandas_datareader import data as pdr\n",
    "import matplotlib.pyplot as plt\n",
    "import pandas as pd\n",
    "import yfinance as yf\n",
    "yf.pdr_override() # <== that's all it takes :-)%%!"
   ]
  },
  {
   "cell_type": "code",
   "execution_count": 37,
   "metadata": {
    "scrolled": false
   },
   "outputs": [],
   "source": [
    "import matplotlib.dates as mdates\n",
    "def pltdata(data, label):\n",
    "    hsi=yf.Ticker('^HSI')\n",
    "    fig=plt.figure()\n",
    "    fig.set_size_inches(18.5, 10.5)\n",
    "    plt.plot(hsi.history(period='5y')['Close'], linestyle='-', linewidth=1, label='HSI')\n",
    "    plt.plot(data['Close'], linestyle='--', linewidth=1, label=label)\n",
    "    plt.legend()\n",
    "    plt.show()"
   ]
  },
  {
   "cell_type": "code",
   "execution_count": null,
   "metadata": {},
   "outputs": [],
   "source": [
    "t=yf.Ticker('0010.HK')\n",
    "data=(t.history(period='5y'))\n",
    "data['Close']=data['Close']*1000\n",
    "pltdata(data,t.info['symbol'])"
   ]
  },
  {
   "cell_type": "code",
   "execution_count": null,
   "metadata": {},
   "outputs": [],
   "source": []
  }
 ],
 "metadata": {
  "kernelspec": {
   "display_name": "Python 3",
   "language": "python",
   "name": "python3"
  },
  "language_info": {
   "codemirror_mode": {
    "name": "ipython",
    "version": 3
   },
   "file_extension": ".py",
   "mimetype": "text/x-python",
   "name": "python",
   "nbconvert_exporter": "python",
   "pygments_lexer": "ipython3",
   "version": "3.7.3"
  }
 },
 "nbformat": 4,
 "nbformat_minor": 2
}
