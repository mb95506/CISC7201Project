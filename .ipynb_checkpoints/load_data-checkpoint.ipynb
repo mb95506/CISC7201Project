{
 "cells": [
  {
   "cell_type": "code",
   "execution_count": 43,
   "metadata": {},
   "outputs": [],
   "source": [
    "from pandas_datareader import data as pdr\n",
    "import matplotlib.pyplot as plt\n",
    "import pandas as pd\n",
    "import yfinance as yf\n",
    "import json\n",
    "import threading\n",
    "yf.pdr_override() # <== that's all it takes :-)"
   ]
  },
  {
   "cell_type": "code",
   "execution_count": 2,
   "metadata": {},
   "outputs": [],
   "source": [
    "hk_tickers=pd.read_csv('HKTickers.csv')"
   ]
  },
  {
   "cell_type": "code",
   "execution_count": 3,
   "metadata": {},
   "outputs": [],
   "source": [
    "hk_tickers=yf.Tickers(hk_tickers.Tickers.to_list())"
   ]
  },
  {
   "cell_type": "code",
   "execution_count": 58,
   "metadata": {},
   "outputs": [
    {
     "data": {
      "text/plain": [
       "2464"
      ]
     },
     "execution_count": 58,
     "metadata": {},
     "output_type": "execute_result"
    }
   ],
   "source": [
    "len(hk_tickers.tickers)"
   ]
  },
  {
   "cell_type": "code",
   "execution_count": 75,
   "metadata": {},
   "outputs": [],
   "source": [
    "def appendToTickersInfo(arange):\n",
    "    global tickersInfo\n",
    "    for t in arange:\n",
    "        try:\n",
    "            tickersInfo.append(hk_tickers.tickers[t].info)\n",
    "        except:\n",
    "            pass\n",
    "\n",
    "def dumpTickersInfoToFile(filename):\n",
    "    global tickersInfo\n",
    "    with open(filename, 'w') as file:\n",
    "        file.write(json.dumps(tickersInfo))"
   ]
  },
  {
   "cell_type": "code",
   "execution_count": 79,
   "metadata": {},
   "outputs": [],
   "source": [
    "class DownloadThread (threading.Thread):\n",
    "   def __init__(self, threadID, name, arange):\n",
    "      threading.Thread.__init__(self)\n",
    "      self.threadID = threadID\n",
    "      self.name = name\n",
    "      self.arange = arange\n",
    "   def run(self):\n",
    "      print(\"Starting \" + self.name)\n",
    "      appendToTickersInfo(self.arange)\n",
    "      print(\"Exiting \" + self.name)"
   ]
  },
  {
   "cell_type": "code",
   "execution_count": 80,
   "metadata": {},
   "outputs": [
    {
     "name": "stdout",
     "output_type": "stream",
     "text": [
      "Starting T0\n",
      "Starting T1Starting T2\n",
      "\n",
      "Starting T3\n",
      "Starting T4\n",
      "Starting T5\n",
      "Starting T6\n",
      "Starting T7\n",
      "Starting T8\n",
      "Exiting T1\n",
      "Exiting T0\n",
      "Exiting T3\n",
      "Exiting T2\n",
      "Exiting T8\n",
      "Exiting T6\n",
      "Exiting T4\n",
      "Exiting T5\n",
      "Exiting T7\n"
     ]
    }
   ],
   "source": [
    "tickersInfo=[]\n",
    "threads = [DownloadThread(i, 'T'+str(i), range(300*i,300*(i+1))) for i in range(int(len(hk_tickers.tickers) / 300)+1)]\n",
    "for t in threads:\n",
    "    t.start()"
   ]
  },
  {
   "cell_type": "code",
   "execution_count": 81,
   "metadata": {},
   "outputs": [],
   "source": [
    "dumpTickersInfoToFile('HKTickersAttributes.dmp')"
   ]
  },
  {
   "cell_type": "code",
   "execution_count": 77,
   "metadata": {},
   "outputs": [
    {
     "data": {
      "text/html": [
       "<div>\n",
       "<style scoped>\n",
       "    .dataframe tbody tr th:only-of-type {\n",
       "        vertical-align: middle;\n",
       "    }\n",
       "\n",
       "    .dataframe tbody tr th {\n",
       "        vertical-align: top;\n",
       "    }\n",
       "\n",
       "    .dataframe thead th {\n",
       "        text-align: right;\n",
       "    }\n",
       "</style>\n",
       "<table border=\"1\" class=\"dataframe\">\n",
       "  <thead>\n",
       "    <tr style=\"text-align: right;\">\n",
       "      <th></th>\n",
       "      <th>2018-12-31 00:00:00</th>\n",
       "      <th>2018-06-30 00:00:00</th>\n",
       "      <th>2017-06-30 00:00:00</th>\n",
       "      <th>2016-06-30 00:00:00</th>\n",
       "    </tr>\n",
       "  </thead>\n",
       "  <tbody>\n",
       "    <tr>\n",
       "      <th>Capital Expenditures</th>\n",
       "      <td>-2.722000e+06</td>\n",
       "      <td>-100000.0</td>\n",
       "      <td>-1.000000e+05</td>\n",
       "      <td>-4.020000e+05</td>\n",
       "    </tr>\n",
       "    <tr>\n",
       "      <th>Change In Cash</th>\n",
       "      <td>-1.102748e+09</td>\n",
       "      <td>222394000.0</td>\n",
       "      <td>-1.833680e+08</td>\n",
       "      <td>7.842300e+07</td>\n",
       "    </tr>\n",
       "    <tr>\n",
       "      <th>Change To Account Receivables</th>\n",
       "      <td>NaN</td>\n",
       "      <td>10000.0</td>\n",
       "      <td>-9.000000e+03</td>\n",
       "      <td>5.520000e+05</td>\n",
       "    </tr>\n",
       "    <tr>\n",
       "      <th>Change To Liabilities</th>\n",
       "      <td>2.924000e+06</td>\n",
       "      <td>-1257000.0</td>\n",
       "      <td>3.786000e+06</td>\n",
       "      <td>-1.845000e+06</td>\n",
       "    </tr>\n",
       "    <tr>\n",
       "      <th>Change To Netincome</th>\n",
       "      <td>-6.413200e+08</td>\n",
       "      <td>-690610000.0</td>\n",
       "      <td>-6.634580e+08</td>\n",
       "      <td>-5.521880e+08</td>\n",
       "    </tr>\n",
       "    <tr>\n",
       "      <th>Change To Operating Activities</th>\n",
       "      <td>1.782000e+06</td>\n",
       "      <td>-628000.0</td>\n",
       "      <td>-2.500000e+05</td>\n",
       "      <td>6.150000e+05</td>\n",
       "    </tr>\n",
       "    <tr>\n",
       "      <th>Depreciation</th>\n",
       "      <td>3.080000e+05</td>\n",
       "      <td>108000.0</td>\n",
       "      <td>1.900000e+05</td>\n",
       "      <td>1.900000e+05</td>\n",
       "    </tr>\n",
       "    <tr>\n",
       "      <th>Dividends Paid</th>\n",
       "      <td>-1.372564e+09</td>\n",
       "      <td>-353362000.0</td>\n",
       "      <td>-5.449220e+08</td>\n",
       "      <td>-5.152400e+08</td>\n",
       "    </tr>\n",
       "    <tr>\n",
       "      <th>Effect Of Exchange Rate</th>\n",
       "      <td>1.610800e+07</td>\n",
       "      <td>2656000.0</td>\n",
       "      <td>3.574900e+07</td>\n",
       "      <td>-1.280000e+05</td>\n",
       "    </tr>\n",
       "    <tr>\n",
       "      <th>Investments</th>\n",
       "      <td>NaN</td>\n",
       "      <td>NaN</td>\n",
       "      <td>NaN</td>\n",
       "      <td>-2.120000e+08</td>\n",
       "    </tr>\n",
       "    <tr>\n",
       "      <th>Net Borrowings</th>\n",
       "      <td>NaN</td>\n",
       "      <td>NaN</td>\n",
       "      <td>NaN</td>\n",
       "      <td>-2.495200e+08</td>\n",
       "    </tr>\n",
       "    <tr>\n",
       "      <th>Net Income</th>\n",
       "      <td>6.080920e+08</td>\n",
       "      <td>656197000.0</td>\n",
       "      <td>6.226710e+08</td>\n",
       "      <td>5.113320e+08</td>\n",
       "    </tr>\n",
       "    <tr>\n",
       "      <th>Other Cashflows From Financing Activities</th>\n",
       "      <td>-3.532000e+06</td>\n",
       "      <td>-13438000.0</td>\n",
       "      <td>-2.465000e+07</td>\n",
       "      <td>-1.673400e+07</td>\n",
       "    </tr>\n",
       "    <tr>\n",
       "      <th>Other Cashflows From Investing Activities</th>\n",
       "      <td>9.158980e+08</td>\n",
       "      <td>929565000.0</td>\n",
       "      <td>1.641787e+09</td>\n",
       "      <td>1.668495e+09</td>\n",
       "    </tr>\n",
       "    <tr>\n",
       "      <th>Total Cash From Financing Activities</th>\n",
       "      <td>-2.003818e+09</td>\n",
       "      <td>-673866000.0</td>\n",
       "      <td>-1.823834e+09</td>\n",
       "      <td>-1.336198e+09</td>\n",
       "    </tr>\n",
       "    <tr>\n",
       "      <th>Total Cash From Operating Activities</th>\n",
       "      <td>-2.821400e+07</td>\n",
       "      <td>-36180000.0</td>\n",
       "      <td>-3.707000e+07</td>\n",
       "      <td>-4.134400e+07</td>\n",
       "    </tr>\n",
       "    <tr>\n",
       "      <th>Total Cashflows From Investing Activities</th>\n",
       "      <td>9.131760e+08</td>\n",
       "      <td>929784000.0</td>\n",
       "      <td>1.641787e+09</td>\n",
       "      <td>1.456093e+09</td>\n",
       "    </tr>\n",
       "  </tbody>\n",
       "</table>\n",
       "</div>"
      ],
      "text/plain": [
       "                                             2018-12-31   2018-06-30  \\\n",
       "Capital Expenditures                      -2.722000e+06    -100000.0   \n",
       "Change In Cash                            -1.102748e+09  222394000.0   \n",
       "Change To Account Receivables                       NaN      10000.0   \n",
       "Change To Liabilities                      2.924000e+06   -1257000.0   \n",
       "Change To Netincome                       -6.413200e+08 -690610000.0   \n",
       "Change To Operating Activities             1.782000e+06    -628000.0   \n",
       "Depreciation                               3.080000e+05     108000.0   \n",
       "Dividends Paid                            -1.372564e+09 -353362000.0   \n",
       "Effect Of Exchange Rate                    1.610800e+07    2656000.0   \n",
       "Investments                                         NaN          NaN   \n",
       "Net Borrowings                                      NaN          NaN   \n",
       "Net Income                                 6.080920e+08  656197000.0   \n",
       "Other Cashflows From Financing Activities -3.532000e+06  -13438000.0   \n",
       "Other Cashflows From Investing Activities  9.158980e+08  929565000.0   \n",
       "Total Cash From Financing Activities      -2.003818e+09 -673866000.0   \n",
       "Total Cash From Operating Activities      -2.821400e+07  -36180000.0   \n",
       "Total Cashflows From Investing Activities  9.131760e+08  929784000.0   \n",
       "\n",
       "                                             2017-06-30    2016-06-30  \n",
       "Capital Expenditures                      -1.000000e+05 -4.020000e+05  \n",
       "Change In Cash                            -1.833680e+08  7.842300e+07  \n",
       "Change To Account Receivables             -9.000000e+03  5.520000e+05  \n",
       "Change To Liabilities                      3.786000e+06 -1.845000e+06  \n",
       "Change To Netincome                       -6.634580e+08 -5.521880e+08  \n",
       "Change To Operating Activities            -2.500000e+05  6.150000e+05  \n",
       "Depreciation                               1.900000e+05  1.900000e+05  \n",
       "Dividends Paid                            -5.449220e+08 -5.152400e+08  \n",
       "Effect Of Exchange Rate                    3.574900e+07 -1.280000e+05  \n",
       "Investments                                         NaN -2.120000e+08  \n",
       "Net Borrowings                                      NaN -2.495200e+08  \n",
       "Net Income                                 6.226710e+08  5.113320e+08  \n",
       "Other Cashflows From Financing Activities -2.465000e+07 -1.673400e+07  \n",
       "Other Cashflows From Investing Activities  1.641787e+09  1.668495e+09  \n",
       "Total Cash From Financing Activities      -1.823834e+09 -1.336198e+09  \n",
       "Total Cash From Operating Activities      -3.707000e+07 -4.134400e+07  \n",
       "Total Cashflows From Investing Activities  1.641787e+09  1.456093e+09  "
      ]
     },
     "execution_count": 77,
     "metadata": {},
     "output_type": "execute_result"
    }
   ],
   "source": [
    "t = yf.Ticker('80737.HK')\n",
    "t.actions\n",
    "t.balance_sheet\n",
    "t.financials\n",
    "t.cashflow"
   ]
  },
  {
   "cell_type": "code",
   "execution_count": null,
   "metadata": {},
   "outputs": [],
   "source": [
    "count=0\n",
    "selected_keys=['symbol', 'sector', 'industry', 'volume', 'profitMargins', 'shortName', 'longName', 'exchange']\n",
    "tickersFrame = pd.DataFrame(data=[],columns=selected_keys)\n",
    "\n",
    "for t in hk_tickers.tickers:\n",
    "    try:\n",
    "        count=+count\n",
    "        if (count % 10 == 0):\n",
    "            print('#',end='')\n",
    "            s={key: t.info[key] for key in selected_keys}\n",
    "            tickersFrame=tickersFrame.append(s, ignore_index=True)\n",
    "    except:\n",
    "        pass"
   ]
  },
  {
   "cell_type": "code",
   "execution_count": null,
   "metadata": {},
   "outputs": [],
   "source": [
    "tickersFrame.set_index(['symbol'])"
   ]
  },
  {
   "cell_type": "code",
   "execution_count": null,
   "metadata": {},
   "outputs": [],
   "source": [
    "tickersFrame.shape"
   ]
  },
  {
   "cell_type": "code",
   "execution_count": null,
   "metadata": {},
   "outputs": [],
   "source": [
    "tickersFrame.to_csv('HKTickersAttributes.csv')"
   ]
  },
  {
   "cell_type": "code",
   "execution_count": null,
   "metadata": {},
   "outputs": [],
   "source": [
    "msft = yf.Ticker(\"MSFT\")\n",
    "\n",
    "# get stock info\n",
    "msft.info\n",
    "\n",
    "# get historical market data\n",
    "hist = msft.history(period=\"max\")\n",
    "\n",
    "# show actions (dividends, splits)\n",
    "msft.actions\n",
    "\n",
    "# show dividends\n",
    "msft.dividends\n",
    "\n",
    "# show splits\n",
    "msft.splits\n",
    "\n",
    "# show financials\n",
    "msft.financials\n",
    "msft.quarterly_financials\n",
    "\n",
    "# show balance heet\n",
    "msft.balance_sheet\n",
    "msft.quarterly_balance_sheet\n",
    "\n",
    "# show cashflow\n",
    "msft.cashflow\n",
    "msft.quarterly_cashflow\n",
    "\n",
    "# show earnings\n",
    "msft.earnings\n",
    "msft.quarterly_earnings\n",
    "\n",
    "# show sustainability\n",
    "msft.sustainability\n",
    "\n",
    "# show analysts recommendations\n",
    "msft.recommendations\n",
    "\n",
    "# show next event (earnings, etc)\n",
    "msft.calendar\n",
    "\n",
    "# show options expirations\n",
    "\n",
    "\n",
    "# get option chain for specific expiration\n",
    "# opt = msft.option_chain('2019-12-06')\n",
    "# data available via: opt.calls, opt.puts"
   ]
  },
  {
   "cell_type": "code",
   "execution_count": null,
   "metadata": {
    "scrolled": false
   },
   "outputs": [],
   "source": [
    "msft.info"
   ]
  },
  {
   "cell_type": "code",
   "execution_count": null,
   "metadata": {},
   "outputs": [],
   "source": [
    "msft.earnings['ProfitRatio']=msft.earnings['Earnings']/msft.earnings['Revenue']"
   ]
  },
  {
   "cell_type": "code",
   "execution_count": null,
   "metadata": {},
   "outputs": [],
   "source": [
    "msft.earnings"
   ]
  },
  {
   "cell_type": "code",
   "execution_count": null,
   "metadata": {},
   "outputs": [],
   "source": [
    "data = pdr.get_data_yahoo(\"MSFT\", start=\"2010-01-01\", end=\"2017-04-30\")"
   ]
  },
  {
   "cell_type": "code",
   "execution_count": null,
   "metadata": {},
   "outputs": [],
   "source": [
    "data"
   ]
  },
  {
   "cell_type": "code",
   "execution_count": null,
   "metadata": {},
   "outputs": [],
   "source": [
    "data = yf.download(\"SPY AAPL\", start=\"2017-01-01\", end=\"2017-04-30\",\n",
    "                   group_by=\"ticker\")"
   ]
  },
  {
   "cell_type": "code",
   "execution_count": null,
   "metadata": {},
   "outputs": [],
   "source": [
    "data"
   ]
  },
  {
   "cell_type": "code",
   "execution_count": null,
   "metadata": {},
   "outputs": [],
   "source": [
    "data['SPY']"
   ]
  },
  {
   "cell_type": "code",
   "execution_count": null,
   "metadata": {},
   "outputs": [],
   "source": [
    "spy=yf.Ticker('0001.HK')\n",
    "spy.history(period='max')"
   ]
  },
  {
   "cell_type": "code",
   "execution_count": null,
   "metadata": {},
   "outputs": [],
   "source": [
    "spy.quarterly_earnings"
   ]
  },
  {
   "cell_type": "code",
   "execution_count": null,
   "metadata": {},
   "outputs": [],
   "source": [
    "spy.earnings"
   ]
  },
  {
   "cell_type": "code",
   "execution_count": null,
   "metadata": {},
   "outputs": [],
   "source": [
    "spy.info['shortName'] + \" \" + spy.info['symbol']"
   ]
  },
  {
   "cell_type": "code",
   "execution_count": null,
   "metadata": {},
   "outputs": [],
   "source": [
    "import matplotlib.dates as mdates\n",
    "# Start and end of the date range to extract\n",
    "start, end = '2017-01', '2017-06'\n",
    "# Plot daily and weekly resampled time series together\n",
    "fig, ax = plt.subplots()\n",
    "ax.plot(opsd_daily.loc[start:end, 'Solar'],\n",
    "marker='.', linestyle='-', linewidth=0.5, label='Daily')\n",
    "ax.plot(opsd_weekly_mean.loc[start:end, 'Solar'],\n",
    "marker='o', markersize=8, linestyle='-', label='Weekly Mean Resample')\n",
    "ax.set_ylabel('Solar Production (GWh)')\n",
    "ax.legend();"
   ]
  }
 ],
 "metadata": {
  "kernelspec": {
   "display_name": "Python 3",
   "language": "python",
   "name": "python3"
  },
  "language_info": {
   "codemirror_mode": {
    "name": "ipython",
    "version": 3
   },
   "file_extension": ".py",
   "mimetype": "text/x-python",
   "name": "python",
   "nbconvert_exporter": "python",
   "pygments_lexer": "ipython3",
   "version": "3.7.3"
  }
 },
 "nbformat": 4,
 "nbformat_minor": 2
}
