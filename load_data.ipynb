{
 "cells": [
  {
   "cell_type": "code",
   "execution_count": 36,
   "metadata": {},
   "outputs": [],
   "source": [
    "import pandas as pd\n",
    "import numpy as np\n",
    "import yfinance as yf\n",
    "import json\n",
    "import threading\n",
    "import logging\n",
    "\n",
    "logging.basicConfig(level=logging.INFO, filename='load_data.log')\n",
    "tickersInfo=[] # all tickers Information downloaded from yahoo\n",
    "batchSize=300  # number of tickers being processed in a thread\n",
    "  \n",
    "def getValue(info, key):\n",
    "    if(key in info): \n",
    "        return info[key]\n",
    "    else:\n",
    "        return np.nan\n",
    "    \n",
    "def save2csv(filename):\n",
    "    selected_keys= yf.Ticker('msft').info.keys()\n",
    "    tickersFrame = pd.DataFrame(data=[],columns=selected_keys)\n",
    "\n",
    "    for t in tickersInfo:\n",
    "        s={key: getValue(t, key) for key in selected_keys}\n",
    "        tickersFrame=tickersFrame.append(s, ignore_index=True)\n",
    "\n",
    "    tickersFrame.set_index(['symbol'], inplace=True)\n",
    "    tickersFrame.sort_index(inplace=True)\n",
    "    tickersFrame.to_csv(filename)\n",
    "    \n",
    "def appendToTickersInfo(arange):\n",
    "    global tickersInfo\n",
    "    for t in arange:\n",
    "        try:\n",
    "            tickersInfo.append(hk_tickers.tickers[t].info)\n",
    "            if (t%100==0): logging.info(\"Adding tickers[\" + str(t) + \"]\")\n",
    "        except:\n",
    "            pass\n",
    "\n",
    "class DownloadThread (threading.Thread):\n",
    "    def __init__(self, threadID, name, arange):\n",
    "      threading.Thread.__init__(self)\n",
    "      self.threadID = threadID\n",
    "      self.name = name\n",
    "      self.arange = arange\n",
    "    def run(self):\n",
    "      logging.info(\"Starting \" + self.name)\n",
    "      appendToTickersInfo(self.arange)\n",
    "      logging.info(\"Exiting \" + self.name)\n",
    "\n",
    "def loadTickersInfoFromYahoo(tickerscsv, outcsv):\n",
    "    hk_tickers=pd.read_csv(tickerscsv)\n",
    "    hk_tickers=yf.Tickers(hk_tickers.Tickers.to_list())\n",
    "    logging.info('There are ' + str(len(hk_tickers.tickers)) + ' tickers to be loaded in background threads.')\n",
    "    threads = [DownloadThread(i, 'T'+str(i), range(batchSize*i,batchSize*(i+1))) for i in range(int(len(hk_tickers.tickers) / batchSize)+1)]\n",
    "    for t in threads:\n",
    "        t.start()\n",
    "    for t in threads:\n",
    "        t.join()\n",
    "    save2csv(outcsv)"
   ]
  },
  {
   "cell_type": "code",
   "execution_count": 37,
   "metadata": {},
   "outputs": [],
   "source": [
    "loadTickersInfoFromYahoo('HKTickers.csv', 'HKTickersInfo.csv')"
   ]
  },
  {
   "cell_type": "code",
   "execution_count": null,
   "metadata": {},
   "outputs": [],
   "source": []
  }
 ],
 "metadata": {
  "kernelspec": {
   "display_name": "Python 3",
   "language": "python",
   "name": "python3"
  },
  "language_info": {
   "codemirror_mode": {
    "name": "ipython",
    "version": 3
   },
   "file_extension": ".py",
   "mimetype": "text/x-python",
   "name": "python",
   "nbconvert_exporter": "python",
   "pygments_lexer": "ipython3",
   "version": "3.7.4"
  }
 },
 "nbformat": 4,
 "nbformat_minor": 2
}
