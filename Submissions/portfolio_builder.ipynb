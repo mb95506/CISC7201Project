{
 "cells": [
  {
   "cell_type": "markdown",
   "metadata": {},
   "source": [
    "# Import the needed libraries\n",
    "- pandas and numpy are used for storing, cleansing, and analyising the finacial records\n",
    "- yfinance is used for downloading finacial historical data from Yahoo\n",
    "- threading is used to handle concurrent processing of downloading data with yfinance to boost performance\n",
    "- logging is used to record long processes progress into a logfile\n",
    "- matplotlib is used to plot the data on the graph, i.e. visualization of data"
   ]
  },
  {
   "cell_type": "code",
   "execution_count": 3,
   "metadata": {},
   "outputs": [],
   "source": [
    "import pandas as pd\n",
    "import numpy as np\n",
    "import yfinance as yf\n",
    "import threading\n",
    "import logging\n",
    "import time\n",
    "import matplotlib.pyplot as plt\n",
    "import matplotlib.dates as mdates\n",
    "from pandas.plotting import register_matplotlib_converters\n",
    "register_matplotlib_converters()"
   ]
  },
  {
   "cell_type": "markdown",
   "metadata": {},
   "source": [
    "# Enable and setup logging"
   ]
  },
  {
   "cell_type": "code",
   "execution_count": 12,
   "metadata": {},
   "outputs": [],
   "source": [
    "logging.basicConfig(level=logging.INFO, filename='portfolio_builder.log',\n",
    "                    filemode='w', format='%(asctime)s %(levelname)s:%(message)s')"
   ]
  },
  {
   "cell_type": "markdown",
   "metadata": {},
   "source": [
    "# Define the procedures/functions/classes for downloading tickers' information from Yahoo"
   ]
  },
  {
   "cell_type": "code",
   "execution_count": 10,
   "metadata": {},
   "outputs": [],
   "source": [
    "  \n",
    "def getValue(info, key):\n",
    "    if(key in info): \n",
    "        return info[key]\n",
    "    else:\n",
    "        return np.nan\n",
    "    \n",
    "def save2csv(tickersInfo, filename):\n",
    "    selected_keys= yf.Ticker('msft').info.keys()\n",
    "    tickersFrame = pd.DataFrame(data=[],columns=selected_keys)\n",
    "\n",
    "    for t in tickersInfo:\n",
    "        s={key: getValue(t, key) for key in selected_keys}\n",
    "        tickersFrame=tickersFrame.append(s, ignore_index=True)\n",
    "\n",
    "    tickersFrame.set_index(['symbol'], inplace=True)\n",
    "    tickersFrame.sort_index(inplace=True)\n",
    "    tickersFrame.to_csv(filename)\n",
    "\n",
    "class DownloadThread (threading.Thread):\n",
    "    tickersInfo=[] # all tickers Information downloaded from yahoo accumulated here\n",
    "\n",
    "    def __init__(self, threadID, name, arange, yftickers):\n",
    "      threading.Thread.__init__(self)\n",
    "      self.threadID = threadID\n",
    "      self.name = name\n",
    "      self.arange = arange\n",
    "      self.yftickers=yftickers\n",
    "        \n",
    "    def run(self):\n",
    "      logging.info(\"Starting \" + self.name + ' in ' + str(self.arange))\n",
    "      self.appendToTickersInfo()\n",
    "      logging.info(\"Exiting \" + self.name)\n",
    "    \n",
    "    def appendToTickersInfo(self):\n",
    "        for t in self.arange:\n",
    "            try:\n",
    "                if (t%100==0): logging.info(\"Adding tickers[\" + str(t) + \"]\")\n",
    "                DownloadThread.tickersInfo.append(self.yftickers.tickers[t].info)\n",
    "            except:\n",
    "                logging.info(\"Ticker \" + self.yftickers.tickers[t].ticker.title() + \" is skipped due to yfinance exception.\")\n",
    "                pass\n",
    "            \n",
    "def loadTickersInfoFromYahoo(tickersFrame: pd.DataFrame, batchSize: int):\n",
    "    yftickers=yf.Tickers(tickersFrame.Tickers.to_list())\n",
    "    logging.info('There are ' + str(len(yftickers.tickers)) + ' tickers to be loaded in background threads.')\n",
    "    threads = [DownloadThread(i,'T'+str(i),range(batchSize*i,min(batchSize*(i+1),tickersFrame.shape[0])),yftickers) \n",
    "               for i in range(int(len(yftickers.tickers) / batchSize)+1)]\n",
    "    DownloadThread.tickersInfo=[]\n",
    "    for t in threads:\n",
    "        t.start() # start all threads\n",
    "    for t in threads:\n",
    "        t.join() # wait until all threads completed\n",
    "    logging.info('There are ' + str(len(DownloadThread.tickersInfo)) + ' tickers info downloaded.')\n",
    "    return DownloadThread.tickersInfo"
   ]
  },
  {
   "cell_type": "markdown",
   "metadata": {},
   "source": [
    "# Download tickers' information from Yahoo (Take long time > 30 minutes)\n",
    "- The list of HK tickers, which information is to be downloaded, are specified on HKTickers.csv\n",
    "- The resulting tickersInfo is then saved on HKTickersInfo.csv\n",
    "- It takes time to load all information from Yahoo, please be patient\n",
    "- Due to unknown reason, some tickers may return error from yfinance calls, these tickers will be skipped (review the portfolio_builder.log for details)"
   ]
  },
  {
   "cell_type": "code",
   "execution_count": 13,
   "metadata": {},
   "outputs": [],
   "source": [
    "batchSize=100  # number of tickers being processed in a thread\n",
    "hk_tickers=pd.read_csv('HKTickers.csv')\n",
    "start_time = time.time()\n",
    "tickersInfo = loadTickersInfoFromYahoo(hk_tickers, batchSize)\n",
    "end_time = time.time()\n",
    "save2csv(tickersInfo, 'HKTickersInfo.csv')\n",
    "logging.info('Elpase Time: ' + str(end_time-start_time))"
   ]
  },
  {
   "cell_type": "markdown",
   "metadata": {},
   "source": [
    "# Loading tickers' information from local HKTickersInfo.csv\n",
    "- To speed up the process, we may start here to process HK Tickers Information"
   ]
  },
  {
   "cell_type": "code",
   "execution_count": 4,
   "metadata": {},
   "outputs": [
    {
     "data": {
      "text/plain": [
       "(2344, 119)"
      ]
     },
     "execution_count": 4,
     "metadata": {},
     "output_type": "execute_result"
    }
   ],
   "source": [
    "tickersFrame = pd.read_csv('HKTickersInfo.csv')\n",
    "tickersFrame.shape"
   ]
  },
  {
   "cell_type": "markdown",
   "metadata": {},
   "source": [
    "# Sort out the recommended portfolio\n",
    "- *Selection factors*: shares outstanding, priceToBook ratio, and earnings quarterly growth\n",
    "- each factor is normalized/divided by their largest values within their domain to give each a scored indicator (<=1)\n",
    "- add all these scored indicators together to get the *scoredFactors*\n",
    "- group by *sector* and sort the *scoredFactors* in decending order to get the top 1 for each *sector* as portfolio"
   ]
  },
  {
   "cell_type": "code",
   "execution_count": 5,
   "metadata": {},
   "outputs": [
    {
     "data": {
      "text/html": [
       "<div>\n",
       "<style scoped>\n",
       "    .dataframe tbody tr th:only-of-type {\n",
       "        vertical-align: middle;\n",
       "    }\n",
       "\n",
       "    .dataframe tbody tr th {\n",
       "        vertical-align: top;\n",
       "    }\n",
       "\n",
       "    .dataframe thead th {\n",
       "        text-align: right;\n",
       "    }\n",
       "</style>\n",
       "<table border=\"1\" class=\"dataframe\">\n",
       "  <thead>\n",
       "    <tr style=\"text-align: right;\">\n",
       "      <th></th>\n",
       "      <th></th>\n",
       "      <th>industry</th>\n",
       "      <th>longName</th>\n",
       "      <th>volume</th>\n",
       "      <th>profitMargins</th>\n",
       "      <th>sharesOutstanding</th>\n",
       "      <th>regularMarketPreviousClose</th>\n",
       "      <th>trailingPE</th>\n",
       "      <th>priceToBook</th>\n",
       "      <th>earningsQuarterlyGrowth</th>\n",
       "      <th>scoredFactors</th>\n",
       "    </tr>\n",
       "    <tr>\n",
       "      <th>sector</th>\n",
       "      <th>symbol</th>\n",
       "      <th></th>\n",
       "      <th></th>\n",
       "      <th></th>\n",
       "      <th></th>\n",
       "      <th></th>\n",
       "      <th></th>\n",
       "      <th></th>\n",
       "      <th></th>\n",
       "      <th></th>\n",
       "      <th></th>\n",
       "    </tr>\n",
       "  </thead>\n",
       "  <tbody>\n",
       "    <tr>\n",
       "      <th>Utilities</th>\n",
       "      <th>1250.HK</th>\n",
       "      <td>Utilities—Independent Power Producers</td>\n",
       "      <td>Beijing Enterprises Clean Energy Group Limited</td>\n",
       "      <td>73713300.0</td>\n",
       "      <td>0.18010</td>\n",
       "      <td>6.352540e+10</td>\n",
       "      <td>0.061</td>\n",
       "      <td>2.058824</td>\n",
       "      <td>0.335329</td>\n",
       "      <td>-0.146</td>\n",
       "      <td>0.850257</td>\n",
       "    </tr>\n",
       "    <tr>\n",
       "      <th>Technology</th>\n",
       "      <th>2382.HK</th>\n",
       "      <td>Electronic Components</td>\n",
       "      <td>Sunny Optical Technology (Group) Company Limited</td>\n",
       "      <td>4212169.0</td>\n",
       "      <td>0.09286</td>\n",
       "      <td>1.096850e+09</td>\n",
       "      <td>137.900</td>\n",
       "      <td>53.755215</td>\n",
       "      <td>125.789000</td>\n",
       "      <td>0.213</td>\n",
       "      <td>1.020277</td>\n",
       "    </tr>\n",
       "    <tr>\n",
       "      <th>Real Estate</th>\n",
       "      <th>0898.HK</th>\n",
       "      <td>Real Estate Services</td>\n",
       "      <td>Multifield International Holdings Limited</td>\n",
       "      <td>4000.0</td>\n",
       "      <td>4.17731</td>\n",
       "      <td>4.180370e+09</td>\n",
       "      <td>0.380</td>\n",
       "      <td>2.168950</td>\n",
       "      <td>0.224985</td>\n",
       "      <td>38.201</td>\n",
       "      <td>1.057817</td>\n",
       "    </tr>\n",
       "    <tr>\n",
       "      <th>Industrials</th>\n",
       "      <th>0267.HK</th>\n",
       "      <td>Conglomerates</td>\n",
       "      <td>CITIC Limited</td>\n",
       "      <td>7884750.0</td>\n",
       "      <td>0.07478</td>\n",
       "      <td>2.909030e+10</td>\n",
       "      <td>9.900</td>\n",
       "      <td>5.722543</td>\n",
       "      <td>0.495917</td>\n",
       "      <td>0.081</td>\n",
       "      <td>0.395952</td>\n",
       "    </tr>\n",
       "    <tr>\n",
       "      <th>Healthcare</th>\n",
       "      <th>1177.HK</th>\n",
       "      <td>Biotechnology</td>\n",
       "      <td>Sino Biopharmaceutical Limited</td>\n",
       "      <td>20925170.0</td>\n",
       "      <td>0.37177</td>\n",
       "      <td>1.258830e+10</td>\n",
       "      <td>10.120</td>\n",
       "      <td>12.268908</td>\n",
       "      <td>40.880000</td>\n",
       "      <td>-0.029</td>\n",
       "      <td>0.492947</td>\n",
       "    </tr>\n",
       "    <tr>\n",
       "      <th>Financial Services</th>\n",
       "      <th>1141.HK</th>\n",
       "      <td>Capital Markets</td>\n",
       "      <td>CMBC Capital Holdings Limited</td>\n",
       "      <td>14726000.0</td>\n",
       "      <td>0.51249</td>\n",
       "      <td>4.769110e+10</td>\n",
       "      <td>0.127</td>\n",
       "      <td>24.528301</td>\n",
       "      <td>2.888889</td>\n",
       "      <td>0.497</td>\n",
       "      <td>0.675167</td>\n",
       "    </tr>\n",
       "    <tr>\n",
       "      <th>Energy</th>\n",
       "      <th>2883.HK</th>\n",
       "      <td>Oil &amp; Gas Equipment &amp; Services</td>\n",
       "      <td>China Oilfield Services Limited</td>\n",
       "      <td>10926636.0</td>\n",
       "      <td>0.08343</td>\n",
       "      <td>1.811120e+09</td>\n",
       "      <td>10.400</td>\n",
       "      <td>624.295300</td>\n",
       "      <td>9.660239</td>\n",
       "      <td>10.662</td>\n",
       "      <td>0.380174</td>\n",
       "    </tr>\n",
       "    <tr>\n",
       "      <th>Consumer Defensive</th>\n",
       "      <th>0530.HK</th>\n",
       "      <td>Beverages—Wineries &amp; Distilleries</td>\n",
       "      <td>Goldin Financial Holdings Limited</td>\n",
       "      <td>20530003.0</td>\n",
       "      <td>10.35549</td>\n",
       "      <td>6.990650e+09</td>\n",
       "      <td>1.800</td>\n",
       "      <td>10.983324</td>\n",
       "      <td>0.689282</td>\n",
       "      <td>25.721</td>\n",
       "      <td>0.772480</td>\n",
       "    </tr>\n",
       "    <tr>\n",
       "      <th>Consumer Cyclical</th>\n",
       "      <th>0136.HK</th>\n",
       "      <td>Internet Retail</td>\n",
       "      <td>HengTen Networks Group Limited</td>\n",
       "      <td>43292001.0</td>\n",
       "      <td>0.17793</td>\n",
       "      <td>7.461170e+10</td>\n",
       "      <td>0.112</td>\n",
       "      <td>63.672543</td>\n",
       "      <td>56.000000</td>\n",
       "      <td>-0.469</td>\n",
       "      <td>1.432913</td>\n",
       "    </tr>\n",
       "    <tr>\n",
       "      <th>Communication Services</th>\n",
       "      <th>0680.HK</th>\n",
       "      <td>Entertainment</td>\n",
       "      <td>Nan Hai Corporation Limited</td>\n",
       "      <td>33057560.0</td>\n",
       "      <td>0.01797</td>\n",
       "      <td>6.864550e+10</td>\n",
       "      <td>0.106</td>\n",
       "      <td>30.571428</td>\n",
       "      <td>1.304878</td>\n",
       "      <td>-0.908</td>\n",
       "      <td>0.906641</td>\n",
       "    </tr>\n",
       "    <tr>\n",
       "      <th>Basic Materials</th>\n",
       "      <th>0697.HK</th>\n",
       "      <td>Steel</td>\n",
       "      <td>Shougang Concord International Enterprises Com...</td>\n",
       "      <td>8892000.0</td>\n",
       "      <td>0.37865</td>\n",
       "      <td>2.742890e+10</td>\n",
       "      <td>0.345</td>\n",
       "      <td>19.714285</td>\n",
       "      <td>1.002907</td>\n",
       "      <td>0.387</td>\n",
       "      <td>0.385726</td>\n",
       "    </tr>\n",
       "  </tbody>\n",
       "</table>\n",
       "</div>"
      ],
      "text/plain": [
       "                                                             industry  \\\n",
       "sector                 symbol                                           \n",
       "Utilities              1250.HK  Utilities—Independent Power Producers   \n",
       "Technology             2382.HK                  Electronic Components   \n",
       "Real Estate            0898.HK                   Real Estate Services   \n",
       "Industrials            0267.HK                          Conglomerates   \n",
       "Healthcare             1177.HK                          Biotechnology   \n",
       "Financial Services     1141.HK                        Capital Markets   \n",
       "Energy                 2883.HK         Oil & Gas Equipment & Services   \n",
       "Consumer Defensive     0530.HK      Beverages—Wineries & Distilleries   \n",
       "Consumer Cyclical      0136.HK                        Internet Retail   \n",
       "Communication Services 0680.HK                          Entertainment   \n",
       "Basic Materials        0697.HK                                  Steel   \n",
       "\n",
       "                                                                         longName  \\\n",
       "sector                 symbol                                                       \n",
       "Utilities              1250.HK     Beijing Enterprises Clean Energy Group Limited   \n",
       "Technology             2382.HK   Sunny Optical Technology (Group) Company Limited   \n",
       "Real Estate            0898.HK          Multifield International Holdings Limited   \n",
       "Industrials            0267.HK                                      CITIC Limited   \n",
       "Healthcare             1177.HK                     Sino Biopharmaceutical Limited   \n",
       "Financial Services     1141.HK                      CMBC Capital Holdings Limited   \n",
       "Energy                 2883.HK                    China Oilfield Services Limited   \n",
       "Consumer Defensive     0530.HK                  Goldin Financial Holdings Limited   \n",
       "Consumer Cyclical      0136.HK                     HengTen Networks Group Limited   \n",
       "Communication Services 0680.HK                        Nan Hai Corporation Limited   \n",
       "Basic Materials        0697.HK  Shougang Concord International Enterprises Com...   \n",
       "\n",
       "                                    volume  profitMargins  sharesOutstanding  \\\n",
       "sector                 symbol                                                  \n",
       "Utilities              1250.HK  73713300.0        0.18010       6.352540e+10   \n",
       "Technology             2382.HK   4212169.0        0.09286       1.096850e+09   \n",
       "Real Estate            0898.HK      4000.0        4.17731       4.180370e+09   \n",
       "Industrials            0267.HK   7884750.0        0.07478       2.909030e+10   \n",
       "Healthcare             1177.HK  20925170.0        0.37177       1.258830e+10   \n",
       "Financial Services     1141.HK  14726000.0        0.51249       4.769110e+10   \n",
       "Energy                 2883.HK  10926636.0        0.08343       1.811120e+09   \n",
       "Consumer Defensive     0530.HK  20530003.0       10.35549       6.990650e+09   \n",
       "Consumer Cyclical      0136.HK  43292001.0        0.17793       7.461170e+10   \n",
       "Communication Services 0680.HK  33057560.0        0.01797       6.864550e+10   \n",
       "Basic Materials        0697.HK   8892000.0        0.37865       2.742890e+10   \n",
       "\n",
       "                                regularMarketPreviousClose  trailingPE  \\\n",
       "sector                 symbol                                            \n",
       "Utilities              1250.HK                       0.061    2.058824   \n",
       "Technology             2382.HK                     137.900   53.755215   \n",
       "Real Estate            0898.HK                       0.380    2.168950   \n",
       "Industrials            0267.HK                       9.900    5.722543   \n",
       "Healthcare             1177.HK                      10.120   12.268908   \n",
       "Financial Services     1141.HK                       0.127   24.528301   \n",
       "Energy                 2883.HK                      10.400  624.295300   \n",
       "Consumer Defensive     0530.HK                       1.800   10.983324   \n",
       "Consumer Cyclical      0136.HK                       0.112   63.672543   \n",
       "Communication Services 0680.HK                       0.106   30.571428   \n",
       "Basic Materials        0697.HK                       0.345   19.714285   \n",
       "\n",
       "                                priceToBook  earningsQuarterlyGrowth  \\\n",
       "sector                 symbol                                          \n",
       "Utilities              1250.HK     0.335329                   -0.146   \n",
       "Technology             2382.HK   125.789000                    0.213   \n",
       "Real Estate            0898.HK     0.224985                   38.201   \n",
       "Industrials            0267.HK     0.495917                    0.081   \n",
       "Healthcare             1177.HK    40.880000                   -0.029   \n",
       "Financial Services     1141.HK     2.888889                    0.497   \n",
       "Energy                 2883.HK     9.660239                   10.662   \n",
       "Consumer Defensive     0530.HK     0.689282                   25.721   \n",
       "Consumer Cyclical      0136.HK    56.000000                   -0.469   \n",
       "Communication Services 0680.HK     1.304878                   -0.908   \n",
       "Basic Materials        0697.HK     1.002907                    0.387   \n",
       "\n",
       "                                scoredFactors  \n",
       "sector                 symbol                  \n",
       "Utilities              1250.HK       0.850257  \n",
       "Technology             2382.HK       1.020277  \n",
       "Real Estate            0898.HK       1.057817  \n",
       "Industrials            0267.HK       0.395952  \n",
       "Healthcare             1177.HK       0.492947  \n",
       "Financial Services     1141.HK       0.675167  \n",
       "Energy                 2883.HK       0.380174  \n",
       "Consumer Defensive     0530.HK       0.772480  \n",
       "Consumer Cyclical      0136.HK       1.432913  \n",
       "Communication Services 0680.HK       0.906641  \n",
       "Basic Materials        0697.HK       0.385726  "
      ]
     },
     "execution_count": 5,
     "metadata": {},
     "output_type": "execute_result"
    }
   ],
   "source": [
    "selected_keys=['symbol', 'sector', 'industry', 'longName', 'volume', \n",
    "                'profitMargins', 'sharesOutstanding', 'regularMarketPreviousClose', \n",
    "                'trailingPE', 'priceToBook', 'earningsQuarterlyGrowth']\n",
    "tickersFrame = pd.read_csv('HKTickersInfo.csv')\n",
    "# for c in tickersFrame.columns: print(c)\n",
    "tickersFrame=tickersFrame[selected_keys]\n",
    "tickersFrame=tickersFrame.dropna()\n",
    "tickersFrame=tickersFrame.astype({'trailingPE': 'float64'})\n",
    "tickersFrame['scoredFactors']=(tickersFrame['sharesOutstanding'])/(tickersFrame.max()['sharesOutstanding']) + \\\n",
    "    (tickersFrame['priceToBook'])/(tickersFrame.max()['priceToBook']) + \\\n",
    "    (tickersFrame['earningsQuarterlyGrowth'])/(tickersFrame.max()['earningsQuarterlyGrowth'])\n",
    "tickersFrame.set_index(['sector','symbol'], inplace=True)\n",
    "tickersFrame.sort_index(inplace=True)\n",
    "tickersFrame=tickersFrame.sort_values(by=['sector', 'scoredFactors'], ascending=False).groupby('sector').head(1)\n",
    "tickersFrame"
   ]
  },
  {
   "cell_type": "code",
   "execution_count": 6,
   "metadata": {},
   "outputs": [
    {
     "data": {
      "text/plain": [
       "['1250.HK',\n",
       " '2382.HK',\n",
       " '0898.HK',\n",
       " '0267.HK',\n",
       " '1177.HK',\n",
       " '1141.HK',\n",
       " '2883.HK',\n",
       " '0530.HK',\n",
       " '0136.HK',\n",
       " '0680.HK',\n",
       " '0697.HK']"
      ]
     },
     "execution_count": 6,
     "metadata": {},
     "output_type": "execute_result"
    }
   ],
   "source": [
    "recommendedPortfolio = tickersFrame.reset_index('sector').index.to_list()\n",
    "recommendedPortfolio"
   ]
  },
  {
   "cell_type": "markdown",
   "metadata": {},
   "source": [
    "# Gather and calculate the equal weighted portfolio performance"
   ]
  },
  {
   "cell_type": "code",
   "execution_count": 7,
   "metadata": {},
   "outputs": [
    {
     "name": "stdout",
     "output_type": "stream",
     "text": [
      "[*********************100%***********************]  11 of 11 completed\n"
     ]
    }
   ],
   "source": [
    "portfolio_history=yf.download(recommendedPortfolio, period='5y')\n",
    "portfolio_history=portfolio_history.dropna()\n",
    "portfolio_historical_mean=portfolio_history.mean(axis=1, level=0)"
   ]
  },
  {
   "cell_type": "markdown",
   "metadata": {},
   "source": [
    "# Define procedure to plot the portfolio performance in compare with HSI"
   ]
  },
  {
   "cell_type": "code",
   "execution_count": 8,
   "metadata": {},
   "outputs": [],
   "source": [
    "def plot2compareHSI(portdata, label):\n",
    "    hsi=yf.Ticker('^HSI')\n",
    "    hsidata=hsi.history(period='5y')\n",
    "    fig=plt.figure()\n",
    "    fig.set_size_inches(18.5, 10.5)\n",
    "    plt.plot(hsidata['Close']/hsidata.iloc[0]['Open']-1, linestyle='-', linewidth=1, label='HSI')\n",
    "    plt.plot(portdata['Close']/portdata.iloc[0]['Open']-1, linestyle='--', linewidth=1, label=label)\n",
    "    plt.legend()\n",
    "    plt.show()"
   ]
  },
  {
   "cell_type": "markdown",
   "metadata": {},
   "source": [
    "# Plot the recommended portfolio performance in compare with HSI"
   ]
  },
  {
   "cell_type": "code",
   "execution_count": 9,
   "metadata": {},
   "outputs": [
    {
     "data": {
      "image/png": "[encoded data removed]",
      "text/plain": [
       "<Figure size 1332x756 with 1 Axes>"
      ]
     },
     "metadata": {
      "needs_background": "light"
     },
     "output_type": "display_data"
    }
   ],
   "source": [
    "plot2compareHSI(portfolio_historical_mean, 'Recommended Portfolio')"
   ]
  },
  {
   "cell_type": "code",
   "execution_count": null,
   "metadata": {},
   "outputs": [],
   "source": []
  }
 ],
 "metadata": {
  "kernelspec": {
   "display_name": "Python 3",
   "language": "python",
   "name": "python3"
  },
  "language_info": {
   "codemirror_mode": {
    "name": "ipython",
    "version": 3
   },
   "file_extension": ".py",
   "mimetype": "text/x-python",
   "name": "python",
   "nbconvert_exporter": "python",
   "pygments_lexer": "ipython3",
   "version": "3.7.4"
  }
 },
 "nbformat": 4,
 "nbformat_minor": 2
}
